{
 "cells": [
  {
   "cell_type": "markdown",
   "id": "a783d387-d279-4023-af01-307ae79f7d4c",
   "metadata": {},
   "source": [
    "# 1. Create a variable called name and assign your name to it as a string."
   ]
  },
  {
   "cell_type": "code",
   "execution_count": 14,
   "id": "073233d1-686e-48ed-89d4-90bab1ac9451",
   "metadata": {},
   "outputs": [],
   "source": [
    "name = \"Eric\""
   ]
  },
  {
   "cell_type": "code",
   "execution_count": null,
   "id": "6fdfb644-250c-4eaf-ac07-6bc250910a84",
   "metadata": {},
   "outputs": [],
   "source": [
    "2. Create a variable greeting that says:\n",
    "\"Hello, <your name>!\"\n",
    "(Use f-string or .format() method)"
   ]
  },
  {
   "cell_type": "code",
   "execution_count": 22,
   "id": "b59d2edc-95c1-4db0-9350-459e45e202fb",
   "metadata": {},
   "outputs": [
    {
     "name": "stdout",
     "output_type": "stream",
     "text": [
      "Hello, Eric!\n"
     ]
    }
   ],
   "source": [
    "name = \"Eric\"\n",
    "print(f'Hello, {name}!')"
   ]
  },
  {
   "cell_type": "markdown",
   "id": "bedcfc2a-edfe-487b-b67c-52d07065f76c",
   "metadata": {
    "jp-MarkdownHeadingCollapsed": true
   },
   "source": [
    "3. Assign the sentence \"Learning Python is fun!\" to a variable called sentence."
   ]
  },
  {
   "cell_type": "code",
   "execution_count": 25,
   "id": "be335fa4-1319-468f-8945-c37b2bffdda5",
   "metadata": {},
   "outputs": [],
   "source": [
    "sentence = \"Learning Python is fun!\""
   ]
  },
  {
   "cell_type": "markdown",
   "id": "3a23db60-f124-4833-8634-7797e367fe02",
   "metadata": {},
   "source": [
    "4. Use slicing to extract the word \"Python\" from sentence.\n",
    "\n",
    "5. Use indexing to get the last character of sentence."
   ]
  },
  {
   "cell_type": "code",
   "execution_count": 32,
   "id": "154a8fe1-6d4b-45b9-a4f0-0b56f859512f",
   "metadata": {},
   "outputs": [
    {
     "name": "stdout",
     "output_type": "stream",
     "text": [
      "Python\n"
     ]
    }
   ],
   "source": [
    "print(sentence[9:15])"
   ]
  },
  {
   "cell_type": "code",
   "execution_count": 34,
   "id": "f938f7e3-b9a3-4794-93b6-8021d2a877b4",
   "metadata": {},
   "outputs": [
    {
     "name": "stdout",
     "output_type": "stream",
     "text": [
      "!\n"
     ]
    }
   ],
   "source": [
    "print(sentence[-1])"
   ]
  },
  {
   "cell_type": "code",
   "execution_count": 2,
   "id": "a88dab96-785a-44ee-9149-10ce3902dce1",
   "metadata": {},
   "outputs": [
    {
     "data": {
      "text/plain": [
       "'/Users/kyawthiha/Desktop/Python Exercises'"
      ]
     },
     "execution_count": 2,
     "metadata": {},
     "output_type": "execute_result"
    }
   ],
   "source": [
    "pwd\n"
   ]
  },
  {
   "cell_type": "code",
   "execution_count": null,
   "id": "8bf917e7-5544-4a37-95fd-362e161f9d2c",
   "metadata": {},
   "outputs": [],
   "source": []
  }
 ],
 "metadata": {
  "kernelspec": {
   "display_name": "Python [conda env:base] *",
   "language": "python",
   "name": "conda-base-py"
  },
  "language_info": {
   "codemirror_mode": {
    "name": "ipython",
    "version": 3
   },
   "file_extension": ".py",
   "mimetype": "text/x-python",
   "name": "python",
   "nbconvert_exporter": "python",
   "pygments_lexer": "ipython3",
   "version": "3.12.7"
  }
 },
 "nbformat": 4,
 "nbformat_minor": 5
}
